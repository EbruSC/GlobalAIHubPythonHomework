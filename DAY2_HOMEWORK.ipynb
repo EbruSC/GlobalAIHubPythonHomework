{
 "cells": [
  {
   "cell_type": "code",
   "execution_count": 9,
   "metadata": {},
   "outputs": [
    {
     "name": "stdout",
     "output_type": "stream",
     "text": [
      "\n",
      "KULLANICI GİRİŞİ\n",
      "\n",
      "\n",
      "please enter a first name:ebru\n",
      "please enter a last name:somuncu\n",
      "please enter age:25\n",
      "please enter date of birth:1993\n",
      "Liste bilgileri\n",
      "ebru\n",
      "somuncu\n",
      "25\n",
      "1993\n",
      "You can go out to the street\n"
     ]
    }
   ],
   "source": [
    "import time\n",
    "print(\"\"\"\n",
    "KULLANICI GİRİŞİ\n",
    "\n",
    "\"\"\")\n",
    "\n",
    "    \n",
    "first_name=str(input(\"please enter a first name:\"))\n",
    "last_name=str(input(\"please enter a last name:\"))\n",
    "age=int(input(\"please enter age:\"))\n",
    "date=time.strftime(input(\"please enter date of birth:\"))\n",
    "\n",
    "liste=[]\n",
    "liste.append(first_name)\n",
    "liste.append(last_name)\n",
    "liste.append(age)\n",
    "liste.append(date)\n",
    "\n",
    "print(\"LİSTE BİLGİLERİ\")\n",
    "for i in liste:\n",
    "    print(i)\n",
    "if(liste[2]<18):\n",
    "    print(\"You can't go out because it's too dangerous\")\n",
    "elif(liste[2]>18):\n",
    "    print(\"You can go out to the street\")\n"
   ]
  },
  {
   "cell_type": "code",
   "execution_count": null,
   "metadata": {},
   "outputs": [],
   "source": []
  }
 ],
 "metadata": {
  "kernelspec": {
   "display_name": "Python 3",
   "language": "python",
   "name": "python3"
  },
  "language_info": {
   "codemirror_mode": {
    "name": "ipython",
    "version": 3
   },
   "file_extension": ".py",
   "mimetype": "text/x-python",
   "name": "python",
   "nbconvert_exporter": "python",
   "pygments_lexer": "ipython3",
   "version": "3.7.3"
  }
 },
 "nbformat": 4,
 "nbformat_minor": 2
}
