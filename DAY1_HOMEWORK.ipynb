{
 "cells": [
  {
   "cell_type": "code",
   "execution_count": 12,
   "metadata": {},
   "outputs": [
    {
     "name": "stdout",
     "output_type": "stream",
     "text": [
      "please enter a integer value:5\n",
      "Value1: 5\n"
     ]
    }
   ],
   "source": [
    "value1=int(input(\"please enter a integer value:\"))\n",
    "print(\"Value1: {}\".format(value1))\n"
   ]
  },
  {
   "cell_type": "code",
   "execution_count": 13,
   "metadata": {},
   "outputs": [
    {
     "name": "stdout",
     "output_type": "stream",
     "text": [
      "please enter a string value:ebru somuncu\n",
      "<class 'str'>\n"
     ]
    }
   ],
   "source": [
    "value2=input(\"please enter a string value:\")\n",
    "print(type(value2))"
   ]
  },
  {
   "cell_type": "code",
   "execution_count": 15,
   "metadata": {},
   "outputs": [
    {
     "name": "stdout",
     "output_type": "stream",
     "text": [
      "please enter a float value:5.9\n",
      "Value3: 5.9\n"
     ]
    }
   ],
   "source": [
    "value3=float(input(\"please enter a float value:\"))\n",
    "print(\"Value3: {}\".format(value3))"
   ]
  },
  {
   "cell_type": "code",
   "execution_count": 16,
   "metadata": {},
   "outputs": [
    {
     "name": "stdout",
     "output_type": "stream",
     "text": [
      "please enter a boolean value:true\n",
      "<class 'bool'>\n"
     ]
    }
   ],
   "source": [
    "value4=bool(input(\"please enter a boolean value:\"))\n",
    "print(type(value4))"
   ]
  },
  {
   "cell_type": "code",
   "execution_count": 17,
   "metadata": {},
   "outputs": [
    {
     "name": "stdout",
     "output_type": "stream",
     "text": [
      "please enter a value:850\n",
      "Value5: 850\n"
     ]
    }
   ],
   "source": [
    "value5=input(\"please enter a value:\")\n",
    "print(f'Value5: {value5}') "
   ]
  },
  {
   "cell_type": "code",
   "execution_count": null,
   "metadata": {},
   "outputs": [],
   "source": []
  }
 ],
 "metadata": {
  "kernelspec": {
   "display_name": "Python 3",
   "language": "python",
   "name": "python3"
  },
  "language_info": {
   "codemirror_mode": {
    "name": "ipython",
    "version": 3
   },
   "file_extension": ".py",
   "mimetype": "text/x-python",
   "name": "python",
   "nbconvert_exporter": "python",
   "pygments_lexer": "ipython3",
   "version": "3.7.3"
  }
 },
 "nbformat": 4,
 "nbformat_minor": 2
}
