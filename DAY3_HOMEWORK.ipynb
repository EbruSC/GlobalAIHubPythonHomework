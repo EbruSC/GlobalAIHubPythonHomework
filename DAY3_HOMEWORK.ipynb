{
 "cells": [
  {
   "cell_type": "code",
   "execution_count": null,
   "metadata": {},
   "outputs": [
    {
     "name": "stdout",
     "output_type": "stream",
     "text": [
      "\n",
      "***** NUMBER PREDICTION GAME *****\n",
      "Number prediction from 1 to 50\n",
      "\n",
      "\n",
      "USER LOGIN\n",
      "(THE PROGRAM IS FINISHED WHEN THE ENTRY RIGHT IS EXPIRED AND THE CORRECT ENTRY IS MADE.)\n",
      "\n",
      "Enter your Username:EbruSomuncu\n",
      "Enter your password:12345\n",
      "Welcome Ebru..\n",
      "Enter Number to predict:25\n",
      "Wait ..\n",
      "Enter a larger number.\n",
      "Enter Number to predict:50\n",
      "Information Querying ..\n",
      "Congratulations..\n"
     ]
    }
   ],
   "source": [
    "import random\n",
    "import time\n",
    "print(\"\"\"\n",
    "***** NUMBER PREDICTION GAME *****\n",
    "Number prediction from 1 to 50\n",
    "\"\"\")\n",
    "print(\"\"\"\n",
    "USER LOGIN\n",
    "(THE PROGRAM IS FINISHED WHEN THE ENTRY RIGHT IS EXPIRED AND THE CORRECT ENTRY IS MADE.)\n",
    "\"\"\")\n",
    "k_adi=\"EbruSomuncu\"\n",
    "sfr=12345\n",
    "sayac=3\n",
    "while True: #sonsuz döngüye giriyor\n",
    "    kullanici_adi=input(\"Enter your Username:\")\n",
    "    sifre=int(input(\"Enter your password:\"))\n",
    "    if(kullanici_adi!=k_adi and sifre==sfr and sayac!=0):\n",
    "        print(\"Username Incorrect!!\")\n",
    "        sayac-=1\n",
    "    elif(kullanici_adi==k_adi and sifre!=sfr and sayac!=0):\n",
    "        print(\"Password Incorrect!!\")\n",
    "        sayac-=1\n",
    "    elif (kullanici_adi != k_adi and sifre != sfr and sayac != 0):\n",
    "        print(\"Username and Password Incorrect!!\")\n",
    "        sayac -= 1\n",
    "    else:\n",
    "        print(\"Welcome Ebru..\")\n",
    "        \n",
    "        rast_sayı=random.randint(1,50)\n",
    "        tahmin_hakkı=10\n",
    "        while True:\n",
    "            \n",
    "            tahmin=int(input(\"Enter Number to predict:\"))\n",
    "            if(tahmin<rast_sayı):\n",
    "                \n",
    "                print(\"Wait ..\")\n",
    "                time.sleep(1)\n",
    "                print(\"Enter a larger number.\")\n",
    "                tahmin_hakkı-=1\n",
    "            elif(tahmin>rast_sayı):\n",
    "                print(\"Wait ..\")\n",
    "                time.sleep(1)\n",
    "                print(\"Enter a smaller number.\")\n",
    "            else:\n",
    "                print(\"Information Querying ..\")\n",
    "                time.sleep(1)\n",
    "                print(\"Congratulations..\")\n",
    "                break\n",
    "                \n",
    "            if(tahmin_hakkı==0):\n",
    "                print(\"Your Guessing Right Done!\")\n",
    "                break\n",
    "                \n",
    "    if(sayac==0):\n",
    "        print(\"Your right to enter is over!!\")\n",
    "        break\n",
    "\n"
   ]
  },
  {
   "cell_type": "code",
   "execution_count": null,
   "metadata": {},
   "outputs": [],
   "source": []
  }
 ],
 "metadata": {
  "kernelspec": {
   "display_name": "Python 3",
   "language": "python",
   "name": "python3"
  },
  "language_info": {
   "codemirror_mode": {
    "name": "ipython",
    "version": 3
   },
   "file_extension": ".py",
   "mimetype": "text/x-python",
   "name": "python",
   "nbconvert_exporter": "python",
   "pygments_lexer": "ipython3",
   "version": "3.7.3"
  }
 },
 "nbformat": 4,
 "nbformat_minor": 2
}
